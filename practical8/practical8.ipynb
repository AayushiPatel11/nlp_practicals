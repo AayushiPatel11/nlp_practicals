{
  "nbformat": 4,
  "nbformat_minor": 0,
  "metadata": {
    "colab": {
      "name": "Untitled4.ipynb",
      "provenance": []
    },
    "kernelspec": {
      "name": "python3",
      "display_name": "Python 3"
    },
    "language_info": {
      "name": "python"
    }
  },
  "cells": [
    {
      "cell_type": "code",
      "metadata": {
        "colab": {
          "base_uri": "https://localhost:8080/"
        },
        "id": "OYwxZz0w4cq7",
        "outputId": "83290102-b2e2-46a9-8d81-02d9edd77439"
      },
      "source": [
        "#using the text from the US Presidential Inaugaral speeches.import nltk\n",
        "import nltk\n",
        "nltk.download('averaged_perceptron_tagger')\n",
        "from nltk.tag import pos_tag\n",
        "nltk.download('inaugural')\n",
        "from nltk.corpus import inaugural"
      ],
      "execution_count": 6,
      "outputs": [
        {
          "output_type": "stream",
          "name": "stdout",
          "text": [
            "[nltk_data] Downloading package averaged_perceptron_tagger to\n",
            "[nltk_data]     /root/nltk_data...\n",
            "[nltk_data]   Unzipping taggers/averaged_perceptron_tagger.zip.\n",
            "[nltk_data] Downloading package inaugural to /root/nltk_data...\n",
            "[nltk_data]   Unzipping corpora/inaugural.zip.\n"
          ]
        }
      ]
    },
    {
      "cell_type": "code",
      "metadata": {
        "colab": {
          "base_uri": "https://localhost:8080/"
        },
        "id": "K75_yMNn4d8z",
        "outputId": "d3dd4bf3-3b39-4c1c-b901-aa12d99c37bf"
      },
      "source": [
        "#calling the words() method to retrieve the tokenised text of all speeches.\n",
        "inaugural_tokens=inaugural.words()\n",
        "print(inaugural_tokens)"
      ],
      "execution_count": 7,
      "outputs": [
        {
          "output_type": "stream",
          "name": "stdout",
          "text": [
            "['Fellow', '-', 'Citizens', 'of', 'the', 'Senate', ...]\n"
          ]
        }
      ]
    },
    {
      "cell_type": "code",
      "metadata": {
        "colab": {
          "base_uri": "https://localhost:8080/"
        },
        "id": "t_IezOMA4jY5",
        "outputId": "ed8395e6-a2c8-4842-8a7a-57e5e49900d2"
      },
      "source": [
        "#looking at the tokens from the last inaugural, the one made by President Trump\n",
        "inaugural_tokens_trump = inaugural.words(inaugural.fileids()[0:-1])\n",
        "print(inaugural_tokens_trump)"
      ],
      "execution_count": 8,
      "outputs": [
        {
          "output_type": "stream",
          "name": "stdout",
          "text": [
            "['Fellow', '-', 'Citizens', 'of', 'the', 'Senate', ...]\n"
          ]
        }
      ]
    },
    {
      "cell_type": "code",
      "metadata": {
        "colab": {
          "base_uri": "https://localhost:8080/"
        },
        "id": "E1TgMDS44m7t",
        "outputId": "0ba047f3-ae6d-49e2-e462-cf44a401a23a"
      },
      "source": [
        "#assigning POS-tags to all speeches using NLTK’s pos_tag() \n",
        "tagged_inaugural_tokens = nltk.pos_tag(inaugural_tokens)\n",
        "tagged_inaugural_tokens[:20]"
      ],
      "execution_count": 9,
      "outputs": [
        {
          "output_type": "execute_result",
          "data": {
            "text/plain": [
              "[('Fellow', 'NNP'),\n",
              " ('-', ':'),\n",
              " ('Citizens', 'NNS'),\n",
              " ('of', 'IN'),\n",
              " ('the', 'DT'),\n",
              " ('Senate', 'NNP'),\n",
              " ('and', 'CC'),\n",
              " ('of', 'IN'),\n",
              " ('the', 'DT'),\n",
              " ('House', 'NNP'),\n",
              " ('of', 'IN'),\n",
              " ('Representatives', 'NNPS'),\n",
              " (':', ':'),\n",
              " ('Among', 'IN'),\n",
              " ('the', 'DT'),\n",
              " ('vicissitudes', 'NNS'),\n",
              " ('incident', 'NN'),\n",
              " ('to', 'TO'),\n",
              " ('life', 'NN'),\n",
              " ('no', 'DT')]"
            ]
          },
          "metadata": {},
          "execution_count": 9
        }
      ]
    },
    {
      "cell_type": "code",
      "metadata": {
        "colab": {
          "base_uri": "https://localhost:8080/"
        },
        "id": "Yyh54lru4tE7",
        "outputId": "0ab1c384-d1f3-4bfd-89ab-522f8f8021bd"
      },
      "source": [
        "#setting up list to hold specific part of speech such as nouns\n",
        "nouns = [] \n",
        "nouns = [word for (word, pos) in tagged_inaugural_tokens if (pos == 'NN' or pos == 'NNS')] \n",
        "nouns[:20]"
      ],
      "execution_count": 10,
      "outputs": [
        {
          "output_type": "execute_result",
          "data": {
            "text/plain": [
              "['Citizens',\n",
              " 'vicissitudes',\n",
              " 'incident',\n",
              " 'life',\n",
              " 'event',\n",
              " 'anxieties',\n",
              " 'notification',\n",
              " 'order',\n",
              " 'day',\n",
              " 'month',\n",
              " 'hand',\n",
              " 'Country',\n",
              " 'voice',\n",
              " 'veneration',\n",
              " 'love',\n",
              " 'retreat',\n",
              " 'predilection',\n",
              " 'flattering',\n",
              " 'hopes',\n",
              " 'decision']"
            ]
          },
          "metadata": {},
          "execution_count": 10
        }
      ]
    },
    {
      "cell_type": "code",
      "metadata": {
        "colab": {
          "base_uri": "https://localhost:8080/"
        },
        "id": "vNfHIg5k4wHV",
        "outputId": "c558e6db-6cd0-4bd8-ec3b-8db802d3c199"
      },
      "source": [
        "#setting up list to hold Determiner\n",
        "Determiners = [] \n",
        "Determiners = [word for (word, pos) in tagged_inaugural_tokens if (pos == 'DT')] \n",
        "Determiners[:20]"
      ],
      "execution_count": 11,
      "outputs": [
        {
          "output_type": "execute_result",
          "data": {
            "text/plain": [
              "['the',\n",
              " 'the',\n",
              " 'the',\n",
              " 'no',\n",
              " 'that',\n",
              " 'the',\n",
              " 'the',\n",
              " 'the',\n",
              " 'the',\n",
              " 'a',\n",
              " 'the',\n",
              " 'an',\n",
              " 'the',\n",
              " 'a',\n",
              " 'every',\n",
              " 'the',\n",
              " 'the',\n",
              " 'the',\n",
              " 'the',\n",
              " 'the']"
            ]
          },
          "metadata": {},
          "execution_count": 11
        }
      ]
    }
  ]
}